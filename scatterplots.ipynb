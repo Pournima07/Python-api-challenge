{
 "cells": [
  {
   "cell_type": "code",
   "execution_count": 13,
   "metadata": {},
   "outputs": [],
   "source": [
    "%matplotlib inline\n",
    "import matplotlib.pyplot as plt\n",
    "import pandas as pd\n",
    "import numpy as np\n",
    "import scipy.stats as sts"
   ]
  },
  {
   "cell_type": "code",
   "execution_count": 29,
   "metadata": {},
   "outputs": [
    {
     "data": {
      "text/plain": [
       "49"
      ]
     },
     "execution_count": 29,
     "metadata": {},
     "output_type": "execute_result"
    }
   ],
   "source": [
    "city_file = \"Pournima API Homework.csv\"\n",
    "city_file_df = pd.read_csv(city_file)\n",
    "city_file_df.columns =[\"City\",\"Latitude\", \"Wind_Speed\",\"Cloudiness\",\"Humidity\", \"Temparature\"]\n",
    "\n",
    "city_file_df.count()\n",
    "city_file_df[\"Temparature\"].max()\n",
    "city_file_df[\"Temparature\"].min()\n"
   ]
  },
  {
   "cell_type": "code",
   "execution_count": 16,
   "metadata": {},
   "outputs": [
    {
     "data": {
      "text/html": [
       "<div>\n",
       "<style scoped>\n",
       "    .dataframe tbody tr th:only-of-type {\n",
       "        vertical-align: middle;\n",
       "    }\n",
       "\n",
       "    .dataframe tbody tr th {\n",
       "        vertical-align: top;\n",
       "    }\n",
       "\n",
       "    .dataframe thead th {\n",
       "        text-align: right;\n",
       "    }\n",
       "</style>\n",
       "<table border=\"1\" class=\"dataframe\">\n",
       "  <thead>\n",
       "    <tr style=\"text-align: right;\">\n",
       "      <th></th>\n",
       "      <th>City</th>\n",
       "      <th>Latitude</th>\n",
       "      <th>Wind_Speed</th>\n",
       "      <th>Cloudiness</th>\n",
       "      <th>Humidity</th>\n",
       "      <th>Temparature</th>\n",
       "    </tr>\n",
       "  </thead>\n",
       "  <tbody>\n",
       "    <tr>\n",
       "      <th>0</th>\n",
       "      <td>barrow</td>\n",
       "      <td>-38.31</td>\n",
       "      <td>2.80</td>\n",
       "      <td>0</td>\n",
       "      <td>289.13</td>\n",
       "      <td>49</td>\n",
       "    </tr>\n",
       "    <tr>\n",
       "      <th>1</th>\n",
       "      <td>hermanus</td>\n",
       "      <td>-34.42</td>\n",
       "      <td>1.79</td>\n",
       "      <td>57</td>\n",
       "      <td>284.26</td>\n",
       "      <td>69</td>\n",
       "    </tr>\n",
       "    <tr>\n",
       "      <th>2</th>\n",
       "      <td>hobart</td>\n",
       "      <td>-42.88</td>\n",
       "      <td>3.60</td>\n",
       "      <td>75</td>\n",
       "      <td>281.10</td>\n",
       "      <td>61</td>\n",
       "    </tr>\n",
       "    <tr>\n",
       "      <th>3</th>\n",
       "      <td>beba</td>\n",
       "      <td>22.44</td>\n",
       "      <td>5.70</td>\n",
       "      <td>75</td>\n",
       "      <td>302.15</td>\n",
       "      <td>70</td>\n",
       "    </tr>\n",
       "  </tbody>\n",
       "</table>\n",
       "</div>"
      ],
      "text/plain": [
       "       City  Latitude  Wind_Speed  Cloudiness  Humidity  Temparature\n",
       "0    barrow    -38.31        2.80           0    289.13           49\n",
       "1  hermanus    -34.42        1.79          57    284.26           69\n",
       "2    hobart    -42.88        3.60          75    281.10           61\n",
       "3      beba     22.44        5.70          75    302.15           70"
      ]
     },
     "execution_count": 16,
     "metadata": {},
     "output_type": "execute_result"
    }
   ],
   "source": [
    "city_file_df"
   ]
  },
  {
   "cell_type": "code",
   "execution_count": 45,
   "metadata": {},
   "outputs": [
    {
     "data": {
      "image/png": "[encoded data removed]",
      "text/plain": [
       "<Figure size 432x288 with 1 Axes>"
      ]
     },
     "metadata": {
      "needs_background": "light"
     },
     "output_type": "display_data"
    }
   ],
   "source": [
    "x_axis_data = np.arange(-90,90,40)\n",
    "x_axis_data\n",
    "\n",
    "y_axis_data = [20,40,60,80,100]\n",
    "y_axis_data\n",
    "plt.plot(x_axis_data, y_axis_data)\n",
    "plt.xlabel(\"Latitude\"), \n",
    "plt.ylabel(\"Max Temparature\")\n",
    "plt.title (\"City Latitude vs. Max Temparature\")\n",
    "#plt.xlim(-1,48)\n",
    "#plt.ylim (35,75)\n",
    "#plt.legend(handles =[Capomulin,Ceftamin,Infubinol,Ketapril], loc =\"best\")\n",
    "plt.grid()\n",
    "plt.show()"
   ]
  },
  {
   "cell_type": "code",
   "execution_count": null,
   "metadata": {},
   "outputs": [],
   "source": []
  },
  {
   "cell_type": "code",
   "execution_count": null,
   "metadata": {},
   "outputs": [],
   "source": [
    "x_axis_data = np.arange(-90,90,40)\n",
    "x_axis_data\n",
    "\n",
    "y_axis_data = [20,40,60,80,100]\n",
    "y_axis_data\n",
    "plt.plot(x_axis_data, y_axis_data)\n",
    "plt.xlabel(\"Latitude\"), \n",
    "plt.ylabel(\"Max Temparature\")\n",
    "plt.title (\"City Latitude vs. Max Temparature\")\n",
    "#plt.xlim(-1,48)\n",
    "#plt.ylim (35,75)\n",
    "#plt.legend(handles =[Capomulin,Ceftamin,Infubinol,Ketapril], loc =\"best\")\n",
    "plt.grid()\n",
    "plt.show()"
   ]
  }
 ],
 "metadata": {
  "kernelspec": {
   "display_name": "Python 3",
   "language": "python",
   "name": "python3"
  },
  "language_info": {
   "codemirror_mode": {
    "name": "ipython",
    "version": 3
   },
   "file_extension": ".py",
   "mimetype": "text/x-python",
   "name": "python",
   "nbconvert_exporter": "python",
   "pygments_lexer": "ipython3",
   "version": "3.7.3"
  }
 },
 "nbformat": 4,
 "nbformat_minor": 2
}
